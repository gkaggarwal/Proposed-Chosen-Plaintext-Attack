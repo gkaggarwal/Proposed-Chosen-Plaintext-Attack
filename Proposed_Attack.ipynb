{
  "nbformat": 4,
  "nbformat_minor": 0,
  "metadata": {
    "colab": {
      "provenance": []
    },
    "kernelspec": {
      "name": "python3",
      "display_name": "Python 3"
    },
    "language_info": {
      "name": "python"
    }
  },
  "cells": [
    {
      "cell_type": "code",
      "execution_count": 3,
      "metadata": {
        "id": "07yuMalVWzyE"
      },
      "outputs": [],
      "source": [
        "def get_bitstream_segment(stream, start, end):\n",
        "    return stream[start:end+1]\n",
        "\n",
        "def find_template_match(stream, template, search_range):\n",
        "    \"\"\"\n",
        "    Returns the index in `stream` where `template` is found.\n",
        "    Limits search to given range (tuple of indices).\n",
        "    Returns -1 if not found.\n",
        "    \"\"\"\n",
        "    start, end = search_range\n",
        "    for i in range(start, end - len(template) + 2):\n",
        "        if stream[i:i+len(template)] == template:\n",
        "            return i\n",
        "    return -1"
      ]
    },
    {
      "cell_type": "code",
      "source": [
        "\n",
        "\n",
        "def recover_templates(B1, B2, TMS1, TMS2, l_min=3, l_max=9):\n",
        "    \"\"\"\n",
        "    Recovers T1 and T2 templates from B1, B2, and known TMS1, TMS2.\n",
        "    Each input is a binary string.\n",
        "    \"\"\"\n",
        "    # Split TMS values into upper and lower 8-bit parts\n",
        "    TMS1_upper, TMS1_lower = TMS1[:8], TMS1[8:]\n",
        "    TMS2_upper, TMS2_lower = TMS2[:8], TMS2[8:]\n",
        "\n",
        "    templates = [None, None]  # T1, T2\n",
        "    starts = [0, 128]         # start indices for T1 and T2 recovery\n",
        "    TMS_refs = [(TMS1_lower, TMS2_lower), (TMS1_upper, TMS2_upper)]\n",
        "\n",
        "    for i in [0, 1]:  # 0 for T1, 1 for T2\n",
        "        start = starts[i]\n",
        "        TMS1_ref, TMS2_ref = TMS_refs[i]\n",
        "        for l in range(l_min, l_max + 1):\n",
        "            for num in range(2**l):\n",
        "                candidate = format(num, f'0{l}b')\n",
        "                p1 = find_template_match(B1, candidate, (start, start+127))\n",
        "                p2 = find_template_match(B2, candidate, (start, start+127))\n",
        "                if p1 != -1 and p2 != -1:\n",
        "                    # Extract 8 bits after matched template\n",
        "                    k1 = B1[p1 + l : p1 + l + 8]\n",
        "                    k2 = B2[p2 + l : p2 + l + 8]\n",
        "                    if k1 == TMS1_ref and k2 == TMS2_ref:\n",
        "                        templates[i] = candidate\n",
        "                        break\n",
        "            if templates[i]:\n",
        "                break\n",
        "\n",
        "    if all(templates):\n",
        "        return templates[0], templates[1]\n",
        "    else:\n",
        "        return None, None\n",
        "\n",
        "\n"
      ],
      "metadata": {
        "id": "w6DkFNnTW2iT"
      },
      "execution_count": 4,
      "outputs": []
    },
    {
      "cell_type": "code",
      "source": [
        "# Example usage\n",
        "import time\n",
        "\n",
        "if __name__ == \"__main__\":\n",
        "    # Start the timer\n",
        "    start_time = time.time()\n",
        "\n",
        "    # Example inputs (binary strings of length 256 for B1, B2; 16 for TMS)\n",
        "\n",
        "    B1 = '0000101111001100100101001001011011110001111011001110100100010011001011100110111111111001110000010010000000101101000111111111011000100100100000001100101001010111011110100100011100011110100110101100111100101110001111101001110000000001100000011111011010100000'  # Provide a 256-bit binary string\n",
        "    B2 = '0000100001011100100101001001011011110001111011001110100100010011001011100110111111111001110000010010000000101101000111111111011000100100100000001100001111000111011110100100011100011110100110101100111100101110001111101001110000000001100000011111011010100000'  # Provide a 256-bit binary string\n",
        "    TMS1 = '1010010111110011'  # e.g., 0xA5F3\n",
        "    TMS2 = '0011110000010111'  # e.g., 0x3C17\n",
        "\n",
        "    T1, T2 = recover_templates(B1, B2, TMS1, TMS2)\n",
        "    if T1 and T2:\n",
        "        print(f\"Recovered templates: T1 = {T1}, T2 = {T2}\")\n",
        "    else:\n",
        "        print(\"Template recovery failed.\")\n",
        "\n",
        "    # End the timer\n",
        "    end_time = time.time()\n",
        "    # Calculate and print the elapsed time in milliseconds\n",
        "    execution_time_ms = (end_time - start_time) * 1000\n",
        "    print(f\"Execution Time: {execution_time_ms:.3f} ms\")"
      ],
      "metadata": {
        "colab": {
          "base_uri": "https://localhost:8080/"
        },
        "id": "bZqlWWbDW3KL",
        "outputId": "8bab8b39-7311-46b4-9b67-88498ea4b541"
      },
      "execution_count": 5,
      "outputs": [
        {
          "output_type": "stream",
          "name": "stdout",
          "text": [
            "Recovered templates: T1 = 010, T2 = 1100\n",
            "Execution Time: 0.200 ms\n"
          ]
        }
      ]
    },
    {
      "cell_type": "code",
      "source": [],
      "metadata": {
        "id": "iccv0HB7XIJS"
      },
      "execution_count": null,
      "outputs": []
    }
  ]
}