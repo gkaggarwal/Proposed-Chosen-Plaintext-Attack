{
  "nbformat": 4,
  "nbformat_minor": 0,
  "metadata": {
    "colab": {
      "provenance": []
    },
    "kernelspec": {
      "name": "python3",
      "display_name": "Python 3"
    },
    "language_info": {
      "name": "python"
    }
  },
  "cells": [
    {
      "cell_type": "code",
      "execution_count": null,
      "metadata": {
        "id": "07yuMalVWzyE"
      },
      "outputs": [],
      "source": [
        "import hashlib\n",
        "\n",
        "def shake256_bits(seed: str, bits: int) -> str:\n",
        "    \"\"\"Generates a SHAKE-256 pseudo-random bitstream of given length from a string seed.\"\"\"\n",
        "    shake = hashlib.shake_256()\n",
        "    shake.update(seed.encode())\n",
        "    num_bytes = (bits + 7) // 8\n",
        "    byte_stream = shake.digest(num_bytes)\n",
        "    return ''.join(f\"{byte:08b}\" for byte in byte_stream)[:bits]\n",
        "\n",
        "def embed_tms_into_stream(TMS: str, template1: str, template2: str, seed=\"default\") -> str:\n",
        "    \"\"\"\n",
        "    Embeds a 16-bit TMS value into a 256-bit SHAKE-256 stream using two templates.\n",
        "\n",
        "    Parameters:\n",
        "        TMS (str): 16-bit binary string\n",
        "        template1 (str): Template for TMS_lower (first 128 bits)\n",
        "        template2 (str): Template for TMS_upper (second 128 bits)\n",
        "        seed (str): Input seed for SHAKE-256\n",
        "\n",
        "    Returns:\n",
        "        Modified 256-bit binary string with embedded TMS.\n",
        "    \"\"\"\n",
        "    assert len(TMS) == 16, \"TMS must be a 16-bit binary string.\"\n",
        "\n",
        "    stream = shake256_bits(seed, 256)\n",
        "    stream = list(stream)  # Convert to list for mutability\n",
        "\n",
        "    TMS_lower = TMS[8:]  # Last 8 bits\n",
        "    TMS_upper = TMS[:8]  # First 8 bits\n",
        "\n",
        "    # Embed TMS_lower using template1 in first 128 bits\n",
        "    p1 = ''.join(stream[:128]).find(template1)\n",
        "    if p1 != -1:\n",
        "        insert_pos = p1 + len(template1)\n",
        "        for i in range(8):\n",
        "            stream[insert_pos + i] = TMS_lower[i]\n",
        "    else:\n",
        "        raise ValueError(\"Template1 not found in first 128 bits.\")\n",
        "\n",
        "    # Embed TMS_upper using template2 in second 128 bits\n",
        "    p2_offset = 128\n",
        "    p2 = ''.join(stream[128:]).find(template2)\n",
        "    if p2 != -1:\n",
        "        insert_pos = p2_offset + p2 + len(template2)\n",
        "        for i in range(8):\n",
        "            stream[insert_pos + i] = TMS_upper[i]\n",
        "    else:\n",
        "        raise ValueError(\"Template2 not found in second 128 bits.\")\n",
        "\n",
        "    return ''.join(stream)\n",
        "\n"
      ]
    },
    {
      "cell_type": "code",
      "source": [
        "# === Example usage ===\n",
        "if __name__ == \"__main__\":\n",
        "    # Example TMS: 0xA5F3 = '1010010111110011'\n",
        "    TMS1 = '1010010111110011'\n",
        "    TMS2 = '0011110000010111'\n",
        "    # Example templates\n",
        "    template1 = '0010'  # For TMS_lower (F3)\n",
        "    template2 = '1100'  # For TMS_upper (A5)\n",
        "\n",
        "    encrypted_stream1 = embed_tms_into_stream(TMS1, template1, template2, seed=\"test_seed\")\n",
        "    encrypted_stream2 = embed_tms_into_stream(TMS2, template1, template2, seed=\"test_seed\")\n",
        "\n",
        "    print(f\"Encrypted Bitstream 1:\\n{encrypted_stream1}\")\n",
        "    print(f\"Length: {len(encrypted_stream1)} bits\")\n",
        "\n",
        "\n",
        "    print(f\"Encrypted Bitstream 2:\\n{encrypted_stream2}\")\n",
        "    print(f\"Length: {len(encrypted_stream2)} bits\")\n"
      ],
      "metadata": {
        "id": "w6DkFNnTW2iT"
      },
      "execution_count": null,
      "outputs": []
    },
    {
      "cell_type": "code",
      "source": [],
      "metadata": {
        "id": "bZqlWWbDW3KL"
      },
      "execution_count": null,
      "outputs": []
    }
  ]
}