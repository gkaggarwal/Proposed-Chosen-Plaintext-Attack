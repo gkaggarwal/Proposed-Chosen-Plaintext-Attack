{
  "nbformat": 4,
  "nbformat_minor": 0,
  "metadata": {
    "colab": {
      "provenance": []
    },
    "kernelspec": {
      "name": "python3",
      "display_name": "Python 3"
    },
    "language_info": {
      "name": "python"
    }
  },
  "cells": [
    {
      "cell_type": "code",
      "execution_count": 6,
      "metadata": {
        "colab": {
          "base_uri": "https://localhost:8080/"
        },
        "id": "07yuMalVWzyE",
        "outputId": "404bd8f7-ce8f-4bed-dbc9-b7aca44ced59"
      },
      "outputs": [
        {
          "output_type": "stream",
          "name": "stdout",
          "text": [
            "SHAKE-256 generated 128-bit stream:\n",
            " 10010011010110110111100000111011111000011011111011110011001111110101100010100010111001001100100101000000101101111101111001111011 \n",
            "\n",
            "Template length 1: ✅ All templates found\n",
            "Template length 2: ✅ All templates found\n",
            "Template length 3: ✅ All templates found\n",
            "Template length 4: ✅ All templates found\n",
            "Template length 5: ✅ All templates found\n",
            "Template length 6: ❌ Missing 7 templates (out of 64)\n",
            "Template length 7: ❌ Missing 49 templates (out of 128)\n",
            "Template length 8: ❌ Missing 162 templates (out of 256)\n",
            "Template length 9: ❌ Missing 406 templates (out of 512)\n",
            "Template length 10: ❌ Missing 914 templates (out of 1024)\n",
            "Template length 11: ❌ Missing 1938 templates (out of 2048)\n",
            "Template length 12: ❌ Missing 3986 templates (out of 4096)\n",
            "Template length 13: ❌ Missing 8082 templates (out of 8192)\n",
            "Template length 14: ❌ Missing 16274 templates (out of 16384)\n",
            "Template length 15: ❌ Missing 32658 templates (out of 32768)\n",
            "Template length 16: ❌ Missing 65426 templates (out of 65536)\n",
            "Template length 17: ❌ Missing 130962 templates (out of 131072)\n",
            "Template length 18: ❌ Missing 262034 templates (out of 262144)\n",
            "Template length 19: ❌ Missing 524178 templates (out of 524288)\n",
            "Template length 20: ❌ Missing 1048467 templates (out of 1048576)\n",
            "\n",
            "✅ Maximum template length for which all patterns were found: 5\n"
          ]
        }
      ],
      "source": [
        "import hashlib\n",
        "from itertools import product\n",
        "\n",
        "def shake_256_binary(seed: str, bit_len: int) -> str:\n",
        "    \"\"\"Generates a SHAKE-256 binary string of given bit length from a seed string.\"\"\"\n",
        "    byte_len = bit_len // 8\n",
        "    shake = hashlib.shake_256(seed.encode())\n",
        "    digest = shake.digest(byte_len)\n",
        "    return ''.join(f'{byte:08b}' for byte in digest)\n",
        "\n",
        "def missing_templates(stream: str, template_length: int):\n",
        "    \"\"\"Returns the list of missing binary templates of a given length in the stream.\"\"\"\n",
        "    templates = [''.join(bits) for bits in product('01', repeat=template_length)]\n",
        "    missing = [t for t in templates if t not in stream]\n",
        "    return missing\n",
        "\n",
        "# Generate 128-bit binary stream using SHAKE-256 with a known seed\n",
        "seed = \"test_seed_123\"  # You can change this to any string\n",
        "bitstream = shake_256_binary(seed, 128)\n",
        "print(\"SHAKE-256 generated 128-bit stream:\\n\", bitstream, \"\\n\")\n",
        "\n",
        "# Check for each template length\n",
        "max_l = -1\n",
        "for l in range(1, 21):\n",
        "    missing = missing_templates(bitstream, l)\n",
        "    if not missing:\n",
        "        print(f\"Template length {l}: ✅ All templates found\")\n",
        "        max_l = l\n",
        "    else:\n",
        "        print(f\"Template length {l}: ❌ Missing {len(missing)} templates (out of {2**l})\")\n",
        "\n",
        "# Final report\n",
        "if max_l >= 0:\n",
        "    print(f\"\\n✅ Maximum template length for which all patterns were found: {max_l}\")\n",
        "else:\n",
        "    print(\"\\n❌ No template length had all binary patterns present.\")\n"
      ]
    },
    {
      "cell_type": "code",
      "source": [],
      "metadata": {
        "id": "w6DkFNnTW2iT"
      },
      "execution_count": 4,
      "outputs": []
    }
  ]
}